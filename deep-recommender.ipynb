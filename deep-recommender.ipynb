{
 "cells": [
  {
   "cell_type": "markdown",
   "id": "74bb0892",
   "metadata": {},
   "source": [
    "### Loading The Dataset"
   ]
  },
  {
   "cell_type": "code",
   "execution_count": 1,
   "id": "772f2a32",
   "metadata": {},
   "outputs": [],
   "source": [
    "import pandas as pd"
   ]
  },
  {
   "cell_type": "code",
   "execution_count": 2,
   "id": "686b7a05",
   "metadata": {},
   "outputs": [],
   "source": [
    "ratings_columns = ['userId', 'movieId', 'rating', 'timestamp']\n",
    "ratings_df = pd.read_csv('./ml-1m/ratings.dat', names=ratings_columns, delimiter='::', engine='python')"
   ]
  },
  {
   "cell_type": "code",
   "execution_count": 3,
   "id": "6ed2f7ca",
   "metadata": {},
   "outputs": [],
   "source": [
    "ratings_df = ratings_df.drop('timestamp', axis=1)"
   ]
  },
  {
   "cell_type": "code",
   "execution_count": 4,
   "id": "369978d3",
   "metadata": {},
   "outputs": [],
   "source": [
    "ratings_df.userId = ratings_df.userId - 1\n",
    "ratings_df.movieId = ratings_df.movieId - 1"
   ]
  },
  {
   "cell_type": "code",
   "execution_count": 5,
   "id": "8f08b844",
   "metadata": {},
   "outputs": [
    {
     "data": {
      "text/html": [
       "<div>\n",
       "<style scoped>\n",
       "    .dataframe tbody tr th:only-of-type {\n",
       "        vertical-align: middle;\n",
       "    }\n",
       "\n",
       "    .dataframe tbody tr th {\n",
       "        vertical-align: top;\n",
       "    }\n",
       "\n",
       "    .dataframe thead th {\n",
       "        text-align: right;\n",
       "    }\n",
       "</style>\n",
       "<table border=\"1\" class=\"dataframe\">\n",
       "  <thead>\n",
       "    <tr style=\"text-align: right;\">\n",
       "      <th></th>\n",
       "      <th>userId</th>\n",
       "      <th>movieId</th>\n",
       "      <th>rating</th>\n",
       "    </tr>\n",
       "  </thead>\n",
       "  <tbody>\n",
       "    <tr>\n",
       "      <th>0</th>\n",
       "      <td>0</td>\n",
       "      <td>1192</td>\n",
       "      <td>5</td>\n",
       "    </tr>\n",
       "    <tr>\n",
       "      <th>1</th>\n",
       "      <td>0</td>\n",
       "      <td>660</td>\n",
       "      <td>3</td>\n",
       "    </tr>\n",
       "    <tr>\n",
       "      <th>2</th>\n",
       "      <td>0</td>\n",
       "      <td>913</td>\n",
       "      <td>3</td>\n",
       "    </tr>\n",
       "    <tr>\n",
       "      <th>3</th>\n",
       "      <td>0</td>\n",
       "      <td>3407</td>\n",
       "      <td>4</td>\n",
       "    </tr>\n",
       "    <tr>\n",
       "      <th>4</th>\n",
       "      <td>0</td>\n",
       "      <td>2354</td>\n",
       "      <td>5</td>\n",
       "    </tr>\n",
       "  </tbody>\n",
       "</table>\n",
       "</div>"
      ],
      "text/plain": [
       "   userId  movieId  rating\n",
       "0       0     1192       5\n",
       "1       0      660       3\n",
       "2       0      913       3\n",
       "3       0     3407       4\n",
       "4       0     2354       5"
      ]
     },
     "execution_count": 5,
     "metadata": {},
     "output_type": "execute_result"
    }
   ],
   "source": [
    "ratings_df.head()"
   ]
  },
  {
   "cell_type": "markdown",
   "id": "b64e8099",
   "metadata": {},
   "source": [
    "### Stats"
   ]
  },
  {
   "cell_type": "code",
   "execution_count": 108,
   "id": "1495fb68",
   "metadata": {},
   "outputs": [],
   "source": [
    "from collections import Counter\n",
    "import numpy as np"
   ]
  },
  {
   "cell_type": "code",
   "execution_count": 109,
   "id": "304ce88b",
   "metadata": {},
   "outputs": [],
   "source": [
    "num_users = 6040\n",
    "num_movies = 3952"
   ]
  },
  {
   "cell_type": "code",
   "execution_count": 110,
   "id": "7b7c0509",
   "metadata": {},
   "outputs": [
    {
     "name": "stdout",
     "output_type": "stream",
     "text": [
      "Counter({4: 348971, 3: 261197, 5: 226310, 2: 107557, 1: 56174})\n"
     ]
    }
   ],
   "source": [
    "labels = Counter(list(ratings_df[['rating']].to_numpy().squeeze()))\n",
    "print(labels)"
   ]
  },
  {
   "cell_type": "markdown",
   "id": "3679a4b0",
   "metadata": {},
   "source": [
    "### Loading Movie Genres"
   ]
  },
  {
   "cell_type": "code",
   "execution_count": 111,
   "id": "ebf66f7d",
   "metadata": {},
   "outputs": [],
   "source": [
    "movies_columns = ['movieId', 'title', 'genres']\n",
    "movies_df = pd.read_csv('./ml-1m/movies.dat', names=movies_columns, delimiter='::', engine='python')"
   ]
  },
  {
   "cell_type": "code",
   "execution_count": 112,
   "id": "0774489d",
   "metadata": {},
   "outputs": [],
   "source": [
    "movies_df.movieId = movies_df.movieId - 1"
   ]
  },
  {
   "cell_type": "code",
   "execution_count": 113,
   "id": "7111625d",
   "metadata": {},
   "outputs": [],
   "source": [
    "all_genres = [\"Action\", \"Adventure\", \"Animation\", \"Children's\", \"Comedy\", \"Crime\",\n",
    "              \"Documentary\", \"Drama\", \"Fantasy\", \"Film-Noir\", \"Horror\", \"Musical\",\n",
    "              \"Mystery\", \"Romance\", \"Sci-Fi\", \"Thriller\", \"War\", \"Western\"]"
   ]
  },
  {
   "cell_type": "code",
   "execution_count": 114,
   "id": "e47209a3",
   "metadata": {},
   "outputs": [],
   "source": [
    "def genres_to_onehot(x):\n",
    "    movies_genres = np.zeros((num_movies, len(all_genres))) \n",
    "    \n",
    "    for movie in x.to_numpy():\n",
    "        movie_id = movie[0]\n",
    "        movie_gen = movie[2].split('|')\n",
    "        for i, genre in enumerate(all_genres):\n",
    "            has_gen = int(genre in movie_gen)    \n",
    "            movies_genres[movie_id, i] = has_gen\n",
    "\n",
    "    return movies_genres"
   ]
  },
  {
   "cell_type": "code",
   "execution_count": 115,
   "id": "f905bb00",
   "metadata": {},
   "outputs": [],
   "source": [
    "movies_genres = genres_to_onehot(movies_df)"
   ]
  },
  {
   "cell_type": "markdown",
   "id": "8b50d764",
   "metadata": {},
   "source": [
    "### Loading User's Gender & Age"
   ]
  },
  {
   "cell_type": "code",
   "execution_count": 116,
   "id": "d2b75139",
   "metadata": {},
   "outputs": [],
   "source": [
    "from sklearn.preprocessing import OneHotEncoder"
   ]
  },
  {
   "cell_type": "code",
   "execution_count": 117,
   "id": "c6e5e05e",
   "metadata": {},
   "outputs": [],
   "source": [
    "users_columns = ['userId', 'gender', 'age', 'occupation', 'zip_code']\n",
    "users_df = pd.read_csv('./ml-1m/users.dat', names=users_columns, delimiter='::', engine='python')"
   ]
  },
  {
   "cell_type": "code",
   "execution_count": 118,
   "id": "621d1abd",
   "metadata": {},
   "outputs": [],
   "source": [
    "users_df.userId = users_df.userId - 1"
   ]
  },
  {
   "cell_type": "code",
   "execution_count": 119,
   "id": "9c0e1ee4",
   "metadata": {},
   "outputs": [],
   "source": [
    "users_gender = users_df.gender.astype('category').cat.codes.to_numpy()"
   ]
  },
  {
   "cell_type": "code",
   "execution_count": 120,
   "id": "14f50b3b",
   "metadata": {},
   "outputs": [],
   "source": [
    "age_encoder = OneHotEncoder()\n",
    "age_encoder.fit(users_df[['age']])\n",
    "users_age = age_encoder.transform(users_df[['age']]).toarray()"
   ]
  },
  {
   "cell_type": "markdown",
   "id": "d12c50c6",
   "metadata": {},
   "source": [
    "### Train-Validation Split"
   ]
  },
  {
   "cell_type": "code",
   "execution_count": 121,
   "id": "f37431d3",
   "metadata": {},
   "outputs": [],
   "source": [
    "from sklearn.model_selection import train_test_split"
   ]
  },
  {
   "cell_type": "code",
   "execution_count": 122,
   "id": "1e1fe2ff",
   "metadata": {},
   "outputs": [],
   "source": [
    "data = ratings_df.to_numpy()\n",
    "users = data[:, 0].astype(np.int32)\n",
    "movies = data[:, 1].astype(np.int32)\n",
    "ratings = data[:, 2]"
   ]
  },
  {
   "cell_type": "code",
   "execution_count": 123,
   "id": "07ce3a25",
   "metadata": {},
   "outputs": [],
   "source": [
    "users_train, users_val, movies_train, movies_val, ratings_train, ratings_val = train_test_split(\n",
    "    users, movies, ratings, test_size=0.1, random_state=0)"
   ]
  },
  {
   "cell_type": "markdown",
   "id": "b7eed9af",
   "metadata": {},
   "source": [
    "### Creating PyTorch Datasets"
   ]
  },
  {
   "cell_type": "code",
   "execution_count": 29,
   "id": "f9e82b72",
   "metadata": {},
   "outputs": [],
   "source": [
    "import torch as T\n",
    "from torch.utils.data import DataLoader, Dataset"
   ]
  },
  {
   "cell_type": "code",
   "execution_count": 30,
   "id": "67e75a95",
   "metadata": {},
   "outputs": [],
   "source": [
    "class MovieLensDataset(Dataset):\n",
    "    def __init__(self, users, genders, ages, movies, genres, ratings):\n",
    "        self.users = users\n",
    "        self.movies = movies\n",
    "        self.ratings = ratings\n",
    "        self.genres = genres\n",
    "        self.genders = genders\n",
    "        self.ages = ages\n",
    "    \n",
    "    def __len__(self):\n",
    "        return len(self.users)\n",
    "    \n",
    "    def __getitem__(self, index):\n",
    "        user = self.users[index]\n",
    "        gender = np.expand_dims(self.genders[user], axis=0)\n",
    "        age = self.ages[user]\n",
    "        movie = self.movies[index]\n",
    "        genre = self.genres[movie]\n",
    "        rating = self.ratings[index]\n",
    "        return (T.tensor(user, dtype=T.int), T.tensor(gender, dtype=T.int), T.tensor(age, dtype=T.int),\n",
    "                T.tensor(movie, dtype=T.int), T.tensor(genre, dtype=T.int), T.tensor(rating, dtype=T.float32))"
   ]
  },
  {
   "cell_type": "code",
   "execution_count": 31,
   "id": "7017e4fe",
   "metadata": {},
   "outputs": [],
   "source": [
    "def get_loader(users, genders, ages, movies, genres, ratings, batch_size=32, shuffle=True):\n",
    "    dataset = MovieLensDataset(users, genders, ages, movies, genres, ratings)\n",
    "    loader = DataLoader(dataset=dataset, batch_size=batch_size, shuffle=shuffle)\n",
    "    return loader"
   ]
  },
  {
   "cell_type": "code",
   "execution_count": 32,
   "id": "45d0fc5a",
   "metadata": {},
   "outputs": [],
   "source": [
    "train_loader = get_loader(users_train, users_gender, users_age, movies_train,\n",
    "                          movies_genres, ratings_train, batch_size=2000)"
   ]
  },
  {
   "cell_type": "code",
   "execution_count": 33,
   "id": "852773e5",
   "metadata": {},
   "outputs": [],
   "source": [
    "val_loader = get_loader(users_val, users_gender, users_age, movies_val,\n",
    "                        movies_genres, ratings_val, batch_size=2000, shuffle=False)"
   ]
  },
  {
   "cell_type": "markdown",
   "id": "205a9fb4",
   "metadata": {},
   "source": [
    "### Model"
   ]
  },
  {
   "cell_type": "code",
   "execution_count": 34,
   "id": "44851123",
   "metadata": {},
   "outputs": [],
   "source": [
    "import torch.nn as nn"
   ]
  },
  {
   "cell_type": "code",
   "execution_count": 35,
   "id": "6af20fde",
   "metadata": {},
   "outputs": [],
   "source": [
    "class RatingPredictor(nn.Module):\n",
    "    \n",
    "    def __init__(self, n_users, n_genders, n_ages, n_movies, user_emb_dim, movie_emb_dim, n_genres):\n",
    "        super().__init__()\n",
    "\n",
    "        self.user_emb = nn.Embedding(n_users, user_emb_dim)\n",
    "        self.movie_emb = nn.Embedding(n_movies, movie_emb_dim)\n",
    "        self.fc = nn.Sequential(\n",
    "            nn.Linear(user_emb_dim+n_genders+n_ages+movie_emb_dim+n_genres, 200),\n",
    "            nn.ReLU(),\n",
    "            nn.Linear(200, 100),\n",
    "            nn.ReLU(),\n",
    "            nn.Linear(100, 1),\n",
    "            nn.Sigmoid()\n",
    "        )\n",
    "    \n",
    "    def forward(self, users, genders, ages, movies, genres):\n",
    "        user_embedded = self.user_emb(users)\n",
    "        movie_embedded = self.movie_emb(movies)\n",
    "        x = T.cat((user_embedded, genders, ages, movie_embedded, genres), dim=1)\n",
    "        x = 6 * self.fc(x)\n",
    "        return x"
   ]
  },
  {
   "cell_type": "code",
   "execution_count": 77,
   "id": "82e3e338",
   "metadata": {},
   "outputs": [],
   "source": [
    "model = RatingPredictor(\n",
    "    n_users=num_users,\n",
    "    n_genders=1,\n",
    "    n_ages=users_age.shape[1],\n",
    "    n_movies=num_movies,\n",
    "    user_emb_dim=100,\n",
    "    movie_emb_dim=100,\n",
    "    n_genres=movies_genres.shape[1]\n",
    ")"
   ]
  },
  {
   "cell_type": "code",
   "execution_count": 39,
   "id": "1c3a0ad7",
   "metadata": {},
   "outputs": [
    {
     "name": "stdout",
     "output_type": "stream",
     "text": [
      "(6040, 1, 7, 3952, 100, 100, 18)\n"
     ]
    }
   ],
   "source": [
    "print((num_users, 1, users_age.shape[1], num_movies, 100, 100, movies_genres.shape[1]))"
   ]
  },
  {
   "cell_type": "markdown",
   "id": "7c287af9",
   "metadata": {},
   "source": [
    "### Training"
   ]
  },
  {
   "cell_type": "code",
   "execution_count": 78,
   "id": "c2e2ce53",
   "metadata": {},
   "outputs": [],
   "source": [
    "import torch.optim as optim\n",
    "import time"
   ]
  },
  {
   "cell_type": "code",
   "execution_count": 79,
   "id": "87a4e49a",
   "metadata": {},
   "outputs": [],
   "source": [
    "emb_optimizer = optim.AdamW(list(model.parameters())[:2], weight_decay=1)\n",
    "fc_optimizer = optim.AdamW(list(model.parameters())[2:], weight_decay=1)\n",
    "emb_scheduler = optim.lr_scheduler.MultiStepLR(emb_optimizer, milestones=[8], gamma=0.1)\n",
    "fc_scheduler = optim.lr_scheduler.MultiStepLR(fc_optimizer, milestones=[8], gamma=0.1)\n",
    "criterion = nn.MSELoss()"
   ]
  },
  {
   "cell_type": "code",
   "execution_count": 80,
   "id": "736a9dbf",
   "metadata": {},
   "outputs": [],
   "source": [
    "device = 'cuda'\n",
    "criterion = criterion.to(device)\n",
    "model = model.to(device)"
   ]
  },
  {
   "cell_type": "code",
   "execution_count": 81,
   "id": "62f98e0c",
   "metadata": {},
   "outputs": [],
   "source": [
    "def train(model, iterator, emb_optimizer, fc_optimizer, criterion):\n",
    "    \n",
    "    epoch_loss = 0\n",
    "    \n",
    "    model.train()\n",
    "        \n",
    "    for i, (users, genders, ages, movies, genres, ratings) in enumerate(iterator):\n",
    "        \n",
    "        emb_optimizer.zero_grad()\n",
    "        fc_optimizer.zero_grad()\n",
    "        \n",
    "        users = users.to(device)\n",
    "        genders = genders.to(device)\n",
    "        ages = ages.to(device)\n",
    "        movies = movies.to(device)\n",
    "        genres = genres.to(device)\n",
    "        ratings = ratings.to(device)\n",
    "        \n",
    "        predictions = model(users, genders, ages, movies, genres).squeeze()\n",
    "        loss = criterion(predictions, ratings)\n",
    "        \n",
    "        loss.backward()\n",
    "        \n",
    "        emb_optimizer.step()\n",
    "        fc_optimizer.step()\n",
    "        \n",
    "        epoch_loss += loss.item() * len(users)\n",
    "                \n",
    "    return epoch_loss / len(iterator.dataset)"
   ]
  },
  {
   "cell_type": "code",
   "execution_count": 82,
   "id": "99a2a336",
   "metadata": {},
   "outputs": [],
   "source": [
    "def evaluate(model, iterator, criterion):\n",
    "    \n",
    "    epoch_loss = 0\n",
    "    \n",
    "    model.eval() \n",
    "    \n",
    "    labels = []\n",
    "    preds = []\n",
    "    \n",
    "    with T.no_grad():\n",
    "    \n",
    "        for i, (users, genders, ages, movies, genres, ratings) in enumerate(iterator):\n",
    "\n",
    "            users = users.to(device)\n",
    "            genders = genders.to(device)\n",
    "            ages = ages.to(device)\n",
    "            movies = movies.to(device)\n",
    "            genres = genres.to(device)\n",
    "            ratings = ratings.to(device)\n",
    "            \n",
    "            predictions = model(users, genders, ages, movies, genres).squeeze()\n",
    "            predictions = T.clip(predictions, min=1.0, max=5.0)\n",
    "            loss = criterion(predictions, ratings)\n",
    "            \n",
    "            preds += predictions.tolist()\n",
    "            labels += ratings.tolist()\n",
    "\n",
    "            epoch_loss += loss.item() * len(users)\n",
    "          \n",
    "    labels = np.asarray(labels).ravel()\n",
    "    preds = np.asarray(preds).ravel()\n",
    "    rmse = np.sqrt(np.mean((preds - labels)**2))\n",
    "            \n",
    "    return epoch_loss / len(iterator.dataset), rmse"
   ]
  },
  {
   "cell_type": "code",
   "execution_count": 83,
   "id": "a491c5b9",
   "metadata": {},
   "outputs": [],
   "source": [
    "def epoch_time(start_time, end_time):\n",
    "    elapsed_time = end_time - start_time\n",
    "    elapsed_mins = int(elapsed_time / 60)\n",
    "    elapsed_secs = int(elapsed_time - (elapsed_mins * 60))\n",
    "    return elapsed_mins, elapsed_secs"
   ]
  },
  {
   "cell_type": "code",
   "execution_count": 84,
   "id": "edf389f6",
   "metadata": {},
   "outputs": [
    {
     "name": "stdout",
     "output_type": "stream",
     "text": [
      "Epoch: 1\n",
      "Epoch Time: 0m 49s\n",
      "    Train Loss: 0.980\n",
      "     Val. Loss: 0.874 | Val. RMSE: 0.935\n",
      "\n",
      "Epoch: 2\n",
      "Epoch Time: 0m 50s\n",
      "    Train Loss: 0.836\n",
      "     Val. Loss: 0.831 | Val. RMSE: 0.912\n",
      "\n",
      "Epoch: 3\n",
      "Epoch Time: 0m 53s\n",
      "    Train Loss: 0.805\n",
      "     Val. Loss: 0.812 | Val. RMSE: 0.901\n",
      "\n",
      "Epoch: 4\n",
      "Epoch Time: 0m 51s\n",
      "    Train Loss: 0.782\n",
      "     Val. Loss: 0.795 | Val. RMSE: 0.891\n",
      "\n",
      "Epoch: 5\n",
      "Epoch Time: 0m 49s\n",
      "    Train Loss: 0.753\n",
      "     Val. Loss: 0.768 | Val. RMSE: 0.877\n",
      "\n",
      "Epoch: 6\n",
      "Epoch Time: 0m 52s\n",
      "    Train Loss: 0.724\n",
      "     Val. Loss: 0.757 | Val. RMSE: 0.870\n",
      "\n",
      "Epoch: 7\n",
      "Epoch Time: 0m 50s\n",
      "    Train Loss: 0.705\n",
      "     Val. Loss: 0.746 | Val. RMSE: 0.864\n",
      "\n",
      "Epoch: 8\n",
      "Epoch Time: 0m 50s\n",
      "    Train Loss: 0.691\n",
      "     Val. Loss: 0.745 | Val. RMSE: 0.863\n",
      "\n",
      "Epoch: 9\n",
      "Epoch Time: 0m 49s\n",
      "    Train Loss: 0.626\n",
      "     Val. Loss: 0.722 | Val. RMSE: 0.850\n",
      "\n",
      "Epoch: 10\n",
      "Epoch Time: 0m 51s\n",
      "    Train Loss: 0.604\n",
      "     Val. Loss: 0.720 | Val. RMSE: 0.848\n",
      "\n"
     ]
    }
   ],
   "source": [
    "N_EPOCHS = 10\n",
    "\n",
    "for epoch in range(N_EPOCHS):\n",
    "\n",
    "    print(f'Epoch: {epoch+1}')\n",
    "    \n",
    "    start_time = time.time()\n",
    "    \n",
    "    train_loss = train(model, train_loader, emb_optimizer, fc_optimizer, criterion)\n",
    "    valid_loss, valid_rmse = evaluate(model, val_loader, criterion)\n",
    "    \n",
    "    end_time = time.time()\n",
    "    \n",
    "    emb_scheduler.step()\n",
    "    fc_scheduler.step()\n",
    "    \n",
    "    epoch_mins, epoch_secs = epoch_time(start_time, end_time)\n",
    "       \n",
    "    print(f'Epoch Time: {epoch_mins}m {epoch_secs}s')\n",
    "    print(f'    Train Loss: {train_loss:.3f}')\n",
    "    print(f'     Val. Loss: {valid_loss:.3f} | Val. RMSE: {valid_rmse:.3f}')\n",
    "    print()"
   ]
  },
  {
   "cell_type": "markdown",
   "id": "84ecc229",
   "metadata": {},
   "source": [
    "### Saving The Model"
   ]
  },
  {
   "cell_type": "code",
   "execution_count": 45,
   "id": "928fadd2",
   "metadata": {},
   "outputs": [],
   "source": [
    "T.save(model.state_dict(), './model/recom.pth')"
   ]
  },
  {
   "cell_type": "code",
   "execution_count": 126,
   "id": "03e0d135",
   "metadata": {},
   "outputs": [],
   "source": [
    "np.save('./model/movies_genres.npy', movies_genres)\n",
    "np.save('./model/users_gender.npy', users_gender)\n",
    "np.save('./model/users_age.npy', users_age)"
   ]
  },
  {
   "cell_type": "markdown",
   "id": "166ad5c4",
   "metadata": {},
   "source": [
    "### Loading The Model"
   ]
  },
  {
   "cell_type": "code",
   "execution_count": 48,
   "id": "d24b0f30",
   "metadata": {},
   "outputs": [
    {
     "data": {
      "text/plain": [
       "<All keys matched successfully>"
      ]
     },
     "execution_count": 48,
     "metadata": {},
     "output_type": "execute_result"
    }
   ],
   "source": [
    "model.load_state_dict(T.load('./model/recom.pth'))"
   ]
  },
  {
   "cell_type": "code",
   "execution_count": 128,
   "id": "96189afd",
   "metadata": {},
   "outputs": [],
   "source": [
    "movies_genres = np.load('./model/movies_genres.npy')\n",
    "users_gender = np.load('./model/users_gender.npy')\n",
    "users_age = np.load('./model/users_age.npy')"
   ]
  },
  {
   "cell_type": "markdown",
   "id": "da38a56d",
   "metadata": {},
   "source": [
    "### Finding Similar Movies (Those Who Liked X also Liked Y)"
   ]
  },
  {
   "cell_type": "code",
   "execution_count": 87,
   "id": "11d31f9c",
   "metadata": {},
   "outputs": [],
   "source": [
    "def similar_movies(movie_name, k=5):\n",
    "    movie_id = int(movies_df.loc[movies_df['title'] == movie_name]['movieId'])\n",
    "    embs = model.movie_emb.weight.data.cpu().numpy()\n",
    "    movie_emb = embs[movie_id]\n",
    "    dists = np.sum((embs - movie_emb)**2, axis=1)\n",
    "    sorted_idx = sorted(range(len(dists)), key=lambda k: dists[k])\n",
    "    top_movie_ids = sorted_idx[:k]\n",
    "    similar_movies = [(str(movies_df.loc[movies_df['movieId'] == top_id]['title'].values), dists[top_id])\n",
    "                      for top_id in top_movie_ids]\n",
    "    return similar_movies"
   ]
  },
  {
   "cell_type": "code",
   "execution_count": 90,
   "id": "14477b97",
   "metadata": {},
   "outputs": [
    {
     "data": {
      "text/plain": [
       "[(\"['Good, The Bad and The Ugly, The (1966)']\", 0.0),\n",
       " (\"['Fistful of Dollars, A (1964)']\", 0.122113965),\n",
       " (\"['Four Days in September (1997)']\", 0.12961872),\n",
       " (\"['For a Few Dollars More (1965)']\", 0.13064696),\n",
       " (\"['Glengarry Glen Ross (1992)']\", 0.13305692)]"
      ]
     },
     "execution_count": 90,
     "metadata": {},
     "output_type": "execute_result"
    }
   ],
   "source": [
    "similar_movies('Good, The Bad and The Ugly, The (1966)')"
   ]
  },
  {
   "cell_type": "markdown",
   "id": "a4be6bc2",
   "metadata": {},
   "source": [
    "### Recommending Movies to a Certain User (Based on Our Prediction for Rating)"
   ]
  },
  {
   "cell_type": "code",
   "execution_count": 98,
   "id": "e5bccf11",
   "metadata": {},
   "outputs": [],
   "source": [
    "def predict(model, iterator):\n",
    "    model.eval() \n",
    "    preds = []\n",
    "    \n",
    "    with T.no_grad():\n",
    "    \n",
    "        for i, (users, genders, ages, movies, genres, ratings) in enumerate(iterator):\n",
    "\n",
    "            users = users.to(device)\n",
    "            genders = genders.to(device)\n",
    "            ages = ages.to(device)\n",
    "            movies = movies.to(device)\n",
    "            genres = genres.to(device)\n",
    "            ratings = ratings.to(device)\n",
    "            \n",
    "            predictions = model(users, genders, ages, movies, genres).squeeze()\n",
    "            predictions = T.clip(predictions, min=1.0, max=5.0)\n",
    "            preds += predictions.tolist()\n",
    "    \n",
    "    return np.asarray(preds)"
   ]
  },
  {
   "cell_type": "code",
   "execution_count": 101,
   "id": "06eae62a",
   "metadata": {},
   "outputs": [],
   "source": [
    "preds = np.array(predict(model, val_loader))"
   ]
  },
  {
   "cell_type": "code",
   "execution_count": 134,
   "id": "c590813c",
   "metadata": {},
   "outputs": [],
   "source": [
    "def recom_user(user_id):\n",
    "    user_idx = np.where(users_val == user_id)\n",
    "    user_preds = preds[user_idx]\n",
    "    real_ratings = ratings_val[user_idx]\n",
    "    movies_id = movies_val[user_idx]    \n",
    "    sorted_idx = sorted(range(len(user_preds)), key=lambda k: user_preds[k], reverse=True)\n",
    "    sorted_user_preds = user_preds[sorted_idx]\n",
    "    sorted_movies_id = movies_id[sorted_idx]\n",
    "    sorted_real_ratings = real_ratings[sorted_idx]\n",
    "    return [(str(movies_df.loc[movies_df['movieId'] == top_id]['title'].values),\n",
    "             float(int(sorted_user_preds[i]*100))/100, sorted_real_ratings[i])\n",
    "            for i, top_id in enumerate(sorted_movies_id)]"
   ]
  },
  {
   "cell_type": "code",
   "execution_count": 135,
   "id": "f81a78e1",
   "metadata": {},
   "outputs": [
    {
     "data": {
      "text/plain": [
       "[(\"['Braveheart (1995)']\", 4.74, 5),\n",
       " (\"['Taxi Driver (1976)']\", 4.65, 5),\n",
       " (\"['Shine (1996)']\", 4.58, 4),\n",
       " (\"['Good Will Hunting (1997)']\", 4.52, 5),\n",
       " (\"['Ghost in the Shell (Kokaku kidotai) (1995)']\", 4.35, 5),\n",
       " (\"['Truman Show, The (1998)']\", 4.25, 4),\n",
       " (\"['High Fidelity (2000)']\", 4.2, 4),\n",
       " (\"['Like Water for Chocolate (Como agua para chocolate) (1992)']\", 4.14, 4),\n",
       " (\"['Few Good Men, A (1992)']\", 3.95, 3),\n",
       " (\"['Mask of Zorro, The (1998)']\", 3.72, 3),\n",
       " (\"['Primary Colors (1998)']\", 3.66, 2),\n",
       " (\"['Firm, The (1993)']\", 3.35, 3),\n",
       " (\"['Waiting to Exhale (1995)']\", 2.69, 3),\n",
       " (\"['Street Fighter (1994)']\", 2.15, 2)]"
      ]
     },
     "execution_count": 135,
     "metadata": {},
     "output_type": "execute_result"
    }
   ],
   "source": [
    "recom_user(7)"
   ]
  },
  {
   "cell_type": "markdown",
   "id": "d5c2bba3",
   "metadata": {},
   "source": [
    "### Helpful Sources:\n",
    "- [Recommendation System Implementation With Deep Learning and PyTorch](https://medium.com/swlh/recommendation-system-implementation-with-deep-learning-and-pytorch-a03ee84a96f4)"
   ]
  }
 ],
 "metadata": {
  "kernelspec": {
   "display_name": "3.9.4",
   "language": "python",
   "name": "3.9.4"
  },
  "language_info": {
   "codemirror_mode": {
    "name": "ipython",
    "version": 3
   },
   "file_extension": ".py",
   "mimetype": "text/x-python",
   "name": "python",
   "nbconvert_exporter": "python",
   "pygments_lexer": "ipython3",
   "version": "3.9.4"
  }
 },
 "nbformat": 4,
 "nbformat_minor": 5
}
